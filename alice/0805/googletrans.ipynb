{
 "cells": [
  {
   "cell_type": "code",
   "execution_count": 6,
   "id": "9f994da5-c419-47f4-9535-6387099e049f",
   "metadata": {},
   "outputs": [
    {
     "name": "stdout",
     "output_type": "stream",
     "text": [
      "\u001b[31mERROR: Could not find a version that satisfies the requirement request (from versions: none)\u001b[0m\u001b[31m\n",
      "\u001b[0m\u001b[31mERROR: No matching distribution found for request\u001b[0m\u001b[31m\n",
      "\u001b[0m"
     ]
    }
   ],
   "source": [
    "# !pip install googletrans==3.1.0a0\n",
    "# !pip install requests"
   ]
  },
  {
   "cell_type": "code",
   "execution_count": 7,
   "id": "a0bda5c0-b2b4-40b6-b49d-2974682117af",
   "metadata": {},
   "outputs": [],
   "source": [
    "from googletrans import Translator\n",
    "import json\n",
    "import requests "
   ]
  },
  {
   "cell_type": "code",
   "execution_count": 11,
   "id": "aa9e6599-2968-4d96-a7f6-a6bcac6fe380",
   "metadata": {},
   "outputs": [],
   "source": [
    "def translate_text(txt, target_language='ko'):\n",
    "    translator = Translator()\n",
    "    \n",
    "    res = translator.translate(txt,dest=target_language)\n",
    "    \n",
    "    return res.text"
   ]
  },
  {
   "cell_type": "code",
   "execution_count": 13,
   "id": "4128ad42-2936-44cb-aee7-d069b873fed1",
   "metadata": {},
   "outputs": [
    {
     "data": {
      "text/plain": [
       "'다 괜찮아'"
      ]
     },
     "execution_count": 13,
     "metadata": {},
     "output_type": "execute_result"
    }
   ],
   "source": [
    "txt = '''everything is okay'''\n",
    "translate_text(txt)"
   ]
  },
  {
   "cell_type": "code",
   "execution_count": null,
   "id": "2a6db3c4-22b4-42d9-a755-f901a584df9b",
   "metadata": {},
   "outputs": [],
   "source": []
  }
 ],
 "metadata": {
  "kernelspec": {
   "display_name": "Python 3 (ipykernel)",
   "language": "python",
   "name": "python3"
  },
  "language_info": {
   "codemirror_mode": {
    "name": "ipython",
    "version": 3
   },
   "file_extension": ".py",
   "mimetype": "text/x-python",
   "name": "python",
   "nbconvert_exporter": "python",
   "pygments_lexer": "ipython3",
   "version": "3.12.2"
  }
 },
 "nbformat": 4,
 "nbformat_minor": 5
}
