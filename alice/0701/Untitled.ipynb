{
 "cells": [
  {
   "cell_type": "code",
   "execution_count": 1,
   "id": "5603a5c3-8ef1-426f-8e39-f00d9287c0b2",
   "metadata": {},
   "outputs": [
    {
     "name": "stdout",
     "output_type": "stream",
     "text": [
      "[2, 3, 4, 5, 6, 7, 8, 9]\n",
      "[0, 1, 2, 3, 4, 5]\n",
      "[9, 8, 7, 6, 5, 4, 3, 2, 1, 0]\n",
      "[9, 7, 5, 3]\n",
      "[0, 1, 2, 3, 4, 5, 6, 7, 8, 9]\n"
     ]
    }
   ],
   "source": [
    "a = [0, 1, 2, 3, 4, 5, 6, 7, 8, 9]\n",
    "\n",
    "# 인덱스 2부터 끝까지 추출\n",
    "print(a[2:])  # [2, 3, 4, 5, 6, 7, 8, 9]\n",
    "\n",
    "# 인덱스 0부터 6까지 추출 (끝 인덱스는 포함되지 않음)\n",
    "print(a[:6])  # [0, 1, 2, 3, 4, 5]\n",
    "\n",
    "# 인덱스를 거꾸로 추출하기\n",
    "print(a[::-1])  # [9, 8, 7, 6, 5, 4, 3, 2, 1, 0]\n",
    "\n",
    "# 인덱스를 거꾸로 추출하되, 끝 인덱스가 2인 요소까지 추출\n",
    "print(a[9:1:-2])  # [9, 7, 5, 3]\n",
    "\n",
    "# 리스트의 모든 요소를 추출하기\n",
    "print(a[:])  # [0, 1, 2, 3, 4, 5, 6, 7, 8, 9]"
   ]
  },
  {
   "cell_type": "code",
   "execution_count": 2,
   "id": "4f411a10-8fa9-4b73-a748-35e0b36aebe5",
   "metadata": {},
   "outputs": [
    {
     "name": "stdout",
     "output_type": "stream",
     "text": [
      "[0, 1, 2, 3, 4, 5, 6, 7, 8]\n"
     ]
    }
   ],
   "source": [
    "print(a[:-1])  # [0, 1, 2, 3, 4, 5, 6, 7, 8, 9]"
   ]
  },
  {
   "cell_type": "code",
   "execution_count": 3,
   "id": "3bc30fea-15b1-4fc4-a41f-cf8a91f8320d",
   "metadata": {},
   "outputs": [
    {
     "name": "stdout",
     "output_type": "stream",
     "text": [
      "[]\n"
     ]
    }
   ],
   "source": [
    "# 리스트의 모든 요소를 추출하기\n",
    "print(a[:0])  # [0, 1, 2, 3, 4, 5, 6, 7, 8, 9]"
   ]
  },
  {
   "cell_type": "code",
   "execution_count": 4,
   "id": "7974bb5f-aec3-4e39-87f5-f033ad20f1f8",
   "metadata": {},
   "outputs": [
    {
     "name": "stdout",
     "output_type": "stream",
     "text": [
      "[9]\n"
     ]
    }
   ],
   "source": [
    "print(a[-1:])  # [0, 1, 2, 3, 4, 5, 6, 7, 8, 9]"
   ]
  },
  {
   "cell_type": "code",
   "execution_count": null,
   "id": "89b5fb13-dc15-4c57-93f0-01d03203d1ed",
   "metadata": {},
   "outputs": [],
   "source": []
  }
 ],
 "metadata": {
  "kernelspec": {
   "display_name": "Python 3 (ipykernel)",
   "language": "python",
   "name": "python3"
  },
  "language_info": {
   "codemirror_mode": {
    "name": "ipython",
    "version": 3
   },
   "file_extension": ".py",
   "mimetype": "text/x-python",
   "name": "python",
   "nbconvert_exporter": "python",
   "pygments_lexer": "ipython3",
   "version": "3.8.19"
  }
 },
 "nbformat": 4,
 "nbformat_minor": 5
}
